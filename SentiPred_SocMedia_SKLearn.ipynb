{
  "nbformat": 4,
  "nbformat_minor": 0,
  "metadata": {
    "colab": {
      "name": "SentiPred_SocMedia_SKLearn.ipynb",
      "provenance": [],
      "collapsed_sections": [],
      "include_colab_link": true
    },
    "kernelspec": {
      "name": "python3",
      "display_name": "Python 3"
    }
  },
  "cells": [
    {
      "cell_type": "markdown",
      "metadata": {
        "id": "view-in-github",
        "colab_type": "text"
      },
      "source": [
        "<a href=\"https://colab.research.google.com/github/juglar-diaz/SentimentAnalysis/blob/master/SentiPred_SocMedia_SKLearn.ipynb\" target=\"_parent\"><img src=\"https://colab.research.google.com/assets/colab-badge.svg\" alt=\"Open In Colab\"/></a>"
      ]
    },
    {
      "cell_type": "markdown",
      "metadata": {
        "id": "c02j_-p6TZ2r",
        "colab_type": "text"
      },
      "source": [
        "#Intro"
      ]
    },
    {
      "cell_type": "code",
      "metadata": {
        "id": "R3QjBnH6lktK",
        "colab_type": "code",
        "outputId": "af9670e0-dccf-4930-b7c4-f4da901d5ebb",
        "colab": {
          "base_uri": "https://localhost:8080/",
          "height": 34
        }
      },
      "source": [
        "# Load the Drive helper and mount\n",
        "from google.colab import drive\n",
        "\n",
        "# This will prompt for authorization.\n",
        "drive.mount('/content/drive', force_remount=True)"
      ],
      "execution_count": 0,
      "outputs": [
        {
          "output_type": "stream",
          "text": [
            "Mounted at /content/drive\n"
          ],
          "name": "stdout"
        }
      ]
    },
    {
      "cell_type": "code",
      "metadata": {
        "id": "leX0hKWxlPaF",
        "colab_type": "code",
        "outputId": "e9144eeb-9cb5-4364-a704-a4fca4919e1a",
        "colab": {
          "base_uri": "https://localhost:8080/",
          "height": 34
        }
      },
      "source": [
        "!pip install stop_words"
      ],
      "execution_count": 0,
      "outputs": [
        {
          "output_type": "stream",
          "text": [
            "Requirement already satisfied: stop_words in /usr/local/lib/python3.6/dist-packages (2018.7.23)\n"
          ],
          "name": "stdout"
        }
      ]
    },
    {
      "cell_type": "code",
      "metadata": {
        "id": "0b9kkYk9lXhZ",
        "colab_type": "code",
        "colab": {}
      },
      "source": [
        "import stop_words"
      ],
      "execution_count": 0,
      "outputs": []
    },
    {
      "cell_type": "code",
      "metadata": {
        "id": "SwEfjRBXKAcj",
        "colab_type": "code",
        "outputId": "e4fb6e64-4b61-43ed-ef88-abba494c8529",
        "colab": {
          "base_uri": "https://localhost:8080/",
          "height": 1000
        }
      },
      "source": [
        "import nltk\n",
        "nltk.download('all')"
      ],
      "execution_count": 0,
      "outputs": [
        {
          "output_type": "stream",
          "text": [
            "[nltk_data] Downloading collection 'all'\n",
            "[nltk_data]    | \n",
            "[nltk_data]    | Downloading package abc to /root/nltk_data...\n",
            "[nltk_data]    |   Package abc is already up-to-date!\n",
            "[nltk_data]    | Downloading package alpino to /root/nltk_data...\n",
            "[nltk_data]    |   Package alpino is already up-to-date!\n",
            "[nltk_data]    | Downloading package biocreative_ppi to\n",
            "[nltk_data]    |     /root/nltk_data...\n",
            "[nltk_data]    |   Package biocreative_ppi is already up-to-date!\n",
            "[nltk_data]    | Downloading package brown to /root/nltk_data...\n",
            "[nltk_data]    |   Package brown is already up-to-date!\n",
            "[nltk_data]    | Downloading package brown_tei to /root/nltk_data...\n",
            "[nltk_data]    |   Package brown_tei is already up-to-date!\n",
            "[nltk_data]    | Downloading package cess_cat to /root/nltk_data...\n",
            "[nltk_data]    |   Package cess_cat is already up-to-date!\n",
            "[nltk_data]    | Downloading package cess_esp to /root/nltk_data...\n",
            "[nltk_data]    |   Package cess_esp is already up-to-date!\n",
            "[nltk_data]    | Downloading package chat80 to /root/nltk_data...\n",
            "[nltk_data]    |   Package chat80 is already up-to-date!\n",
            "[nltk_data]    | Downloading package city_database to\n",
            "[nltk_data]    |     /root/nltk_data...\n",
            "[nltk_data]    |   Package city_database is already up-to-date!\n",
            "[nltk_data]    | Downloading package cmudict to /root/nltk_data...\n",
            "[nltk_data]    |   Package cmudict is already up-to-date!\n",
            "[nltk_data]    | Downloading package comparative_sentences to\n",
            "[nltk_data]    |     /root/nltk_data...\n",
            "[nltk_data]    |   Package comparative_sentences is already up-to-\n",
            "[nltk_data]    |       date!\n",
            "[nltk_data]    | Downloading package comtrans to /root/nltk_data...\n",
            "[nltk_data]    |   Package comtrans is already up-to-date!\n",
            "[nltk_data]    | Downloading package conll2000 to /root/nltk_data...\n",
            "[nltk_data]    |   Package conll2000 is already up-to-date!\n",
            "[nltk_data]    | Downloading package conll2002 to /root/nltk_data...\n",
            "[nltk_data]    |   Package conll2002 is already up-to-date!\n",
            "[nltk_data]    | Downloading package conll2007 to /root/nltk_data...\n",
            "[nltk_data]    |   Package conll2007 is already up-to-date!\n",
            "[nltk_data]    | Downloading package crubadan to /root/nltk_data...\n",
            "[nltk_data]    |   Package crubadan is already up-to-date!\n",
            "[nltk_data]    | Downloading package dependency_treebank to\n",
            "[nltk_data]    |     /root/nltk_data...\n",
            "[nltk_data]    |   Package dependency_treebank is already up-to-date!\n",
            "[nltk_data]    | Downloading package dolch to /root/nltk_data...\n",
            "[nltk_data]    |   Package dolch is already up-to-date!\n",
            "[nltk_data]    | Downloading package europarl_raw to\n",
            "[nltk_data]    |     /root/nltk_data...\n",
            "[nltk_data]    |   Package europarl_raw is already up-to-date!\n",
            "[nltk_data]    | Downloading package floresta to /root/nltk_data...\n",
            "[nltk_data]    |   Package floresta is already up-to-date!\n",
            "[nltk_data]    | Downloading package framenet_v15 to\n",
            "[nltk_data]    |     /root/nltk_data...\n",
            "[nltk_data]    |   Package framenet_v15 is already up-to-date!\n",
            "[nltk_data]    | Downloading package framenet_v17 to\n",
            "[nltk_data]    |     /root/nltk_data...\n",
            "[nltk_data]    |   Package framenet_v17 is already up-to-date!\n",
            "[nltk_data]    | Downloading package gazetteers to /root/nltk_data...\n",
            "[nltk_data]    |   Package gazetteers is already up-to-date!\n",
            "[nltk_data]    | Downloading package genesis to /root/nltk_data...\n",
            "[nltk_data]    |   Package genesis is already up-to-date!\n",
            "[nltk_data]    | Downloading package gutenberg to /root/nltk_data...\n",
            "[nltk_data]    |   Package gutenberg is already up-to-date!\n",
            "[nltk_data]    | Downloading package ieer to /root/nltk_data...\n",
            "[nltk_data]    |   Package ieer is already up-to-date!\n",
            "[nltk_data]    | Downloading package inaugural to /root/nltk_data...\n",
            "[nltk_data]    |   Package inaugural is already up-to-date!\n",
            "[nltk_data]    | Downloading package indian to /root/nltk_data...\n",
            "[nltk_data]    |   Package indian is already up-to-date!\n",
            "[nltk_data]    | Downloading package jeita to /root/nltk_data...\n",
            "[nltk_data]    |   Package jeita is already up-to-date!\n",
            "[nltk_data]    | Downloading package kimmo to /root/nltk_data...\n",
            "[nltk_data]    |   Package kimmo is already up-to-date!\n",
            "[nltk_data]    | Downloading package knbc to /root/nltk_data...\n",
            "[nltk_data]    |   Package knbc is already up-to-date!\n",
            "[nltk_data]    | Downloading package lin_thesaurus to\n",
            "[nltk_data]    |     /root/nltk_data...\n",
            "[nltk_data]    |   Package lin_thesaurus is already up-to-date!\n",
            "[nltk_data]    | Downloading package mac_morpho to /root/nltk_data...\n",
            "[nltk_data]    |   Package mac_morpho is already up-to-date!\n",
            "[nltk_data]    | Downloading package machado to /root/nltk_data...\n",
            "[nltk_data]    |   Package machado is already up-to-date!\n",
            "[nltk_data]    | Downloading package masc_tagged to /root/nltk_data...\n",
            "[nltk_data]    |   Package masc_tagged is already up-to-date!\n",
            "[nltk_data]    | Downloading package moses_sample to\n",
            "[nltk_data]    |     /root/nltk_data...\n",
            "[nltk_data]    |   Package moses_sample is already up-to-date!\n",
            "[nltk_data]    | Downloading package movie_reviews to\n",
            "[nltk_data]    |     /root/nltk_data...\n",
            "[nltk_data]    |   Package movie_reviews is already up-to-date!\n",
            "[nltk_data]    | Downloading package names to /root/nltk_data...\n",
            "[nltk_data]    |   Package names is already up-to-date!\n",
            "[nltk_data]    | Downloading package nombank.1.0 to /root/nltk_data...\n",
            "[nltk_data]    |   Package nombank.1.0 is already up-to-date!\n",
            "[nltk_data]    | Downloading package nps_chat to /root/nltk_data...\n",
            "[nltk_data]    |   Package nps_chat is already up-to-date!\n",
            "[nltk_data]    | Downloading package omw to /root/nltk_data...\n",
            "[nltk_data]    |   Package omw is already up-to-date!\n",
            "[nltk_data]    | Downloading package opinion_lexicon to\n",
            "[nltk_data]    |     /root/nltk_data...\n",
            "[nltk_data]    |   Package opinion_lexicon is already up-to-date!\n",
            "[nltk_data]    | Downloading package paradigms to /root/nltk_data...\n",
            "[nltk_data]    |   Package paradigms is already up-to-date!\n",
            "[nltk_data]    | Downloading package pil to /root/nltk_data...\n",
            "[nltk_data]    |   Package pil is already up-to-date!\n",
            "[nltk_data]    | Downloading package pl196x to /root/nltk_data...\n",
            "[nltk_data]    |   Package pl196x is already up-to-date!\n",
            "[nltk_data]    | Downloading package ppattach to /root/nltk_data...\n",
            "[nltk_data]    |   Package ppattach is already up-to-date!\n",
            "[nltk_data]    | Downloading package problem_reports to\n",
            "[nltk_data]    |     /root/nltk_data...\n",
            "[nltk_data]    |   Package problem_reports is already up-to-date!\n",
            "[nltk_data]    | Downloading package propbank to /root/nltk_data...\n",
            "[nltk_data]    |   Package propbank is already up-to-date!\n",
            "[nltk_data]    | Downloading package ptb to /root/nltk_data...\n",
            "[nltk_data]    |   Package ptb is already up-to-date!\n",
            "[nltk_data]    | Downloading package product_reviews_1 to\n",
            "[nltk_data]    |     /root/nltk_data...\n",
            "[nltk_data]    |   Package product_reviews_1 is already up-to-date!\n",
            "[nltk_data]    | Downloading package product_reviews_2 to\n",
            "[nltk_data]    |     /root/nltk_data...\n",
            "[nltk_data]    |   Package product_reviews_2 is already up-to-date!\n",
            "[nltk_data]    | Downloading package pros_cons to /root/nltk_data...\n",
            "[nltk_data]    |   Package pros_cons is already up-to-date!\n",
            "[nltk_data]    | Downloading package qc to /root/nltk_data...\n",
            "[nltk_data]    |   Package qc is already up-to-date!\n",
            "[nltk_data]    | Downloading package reuters to /root/nltk_data...\n",
            "[nltk_data]    |   Package reuters is already up-to-date!\n",
            "[nltk_data]    | Downloading package rte to /root/nltk_data...\n",
            "[nltk_data]    |   Package rte is already up-to-date!\n",
            "[nltk_data]    | Downloading package semcor to /root/nltk_data...\n",
            "[nltk_data]    |   Package semcor is already up-to-date!\n",
            "[nltk_data]    | Downloading package senseval to /root/nltk_data...\n",
            "[nltk_data]    |   Package senseval is already up-to-date!\n",
            "[nltk_data]    | Downloading package sentiwordnet to\n",
            "[nltk_data]    |     /root/nltk_data...\n",
            "[nltk_data]    |   Package sentiwordnet is already up-to-date!\n",
            "[nltk_data]    | Downloading package sentence_polarity to\n",
            "[nltk_data]    |     /root/nltk_data...\n",
            "[nltk_data]    |   Package sentence_polarity is already up-to-date!\n",
            "[nltk_data]    | Downloading package shakespeare to /root/nltk_data...\n",
            "[nltk_data]    |   Package shakespeare is already up-to-date!\n",
            "[nltk_data]    | Downloading package sinica_treebank to\n",
            "[nltk_data]    |     /root/nltk_data...\n",
            "[nltk_data]    |   Package sinica_treebank is already up-to-date!\n",
            "[nltk_data]    | Downloading package smultron to /root/nltk_data...\n",
            "[nltk_data]    |   Package smultron is already up-to-date!\n",
            "[nltk_data]    | Downloading package state_union to /root/nltk_data...\n",
            "[nltk_data]    |   Package state_union is already up-to-date!\n",
            "[nltk_data]    | Downloading package stopwords to /root/nltk_data...\n",
            "[nltk_data]    |   Package stopwords is already up-to-date!\n",
            "[nltk_data]    | Downloading package subjectivity to\n",
            "[nltk_data]    |     /root/nltk_data...\n",
            "[nltk_data]    |   Package subjectivity is already up-to-date!\n",
            "[nltk_data]    | Downloading package swadesh to /root/nltk_data...\n",
            "[nltk_data]    |   Package swadesh is already up-to-date!\n",
            "[nltk_data]    | Downloading package switchboard to /root/nltk_data...\n",
            "[nltk_data]    |   Package switchboard is already up-to-date!\n",
            "[nltk_data]    | Downloading package timit to /root/nltk_data...\n",
            "[nltk_data]    |   Package timit is already up-to-date!\n",
            "[nltk_data]    | Downloading package toolbox to /root/nltk_data...\n",
            "[nltk_data]    |   Package toolbox is already up-to-date!\n",
            "[nltk_data]    | Downloading package treebank to /root/nltk_data...\n",
            "[nltk_data]    |   Package treebank is already up-to-date!\n",
            "[nltk_data]    | Downloading package twitter_samples to\n",
            "[nltk_data]    |     /root/nltk_data...\n",
            "[nltk_data]    |   Package twitter_samples is already up-to-date!\n",
            "[nltk_data]    | Downloading package udhr to /root/nltk_data...\n",
            "[nltk_data]    |   Package udhr is already up-to-date!\n",
            "[nltk_data]    | Downloading package udhr2 to /root/nltk_data...\n",
            "[nltk_data]    |   Package udhr2 is already up-to-date!\n",
            "[nltk_data]    | Downloading package unicode_samples to\n",
            "[nltk_data]    |     /root/nltk_data...\n",
            "[nltk_data]    |   Package unicode_samples is already up-to-date!\n",
            "[nltk_data]    | Downloading package universal_treebanks_v20 to\n",
            "[nltk_data]    |     /root/nltk_data...\n",
            "[nltk_data]    |   Package universal_treebanks_v20 is already up-to-\n",
            "[nltk_data]    |       date!\n",
            "[nltk_data]    | Downloading package verbnet to /root/nltk_data...\n",
            "[nltk_data]    |   Package verbnet is already up-to-date!\n",
            "[nltk_data]    | Downloading package verbnet3 to /root/nltk_data...\n",
            "[nltk_data]    |   Package verbnet3 is already up-to-date!\n",
            "[nltk_data]    | Downloading package webtext to /root/nltk_data...\n",
            "[nltk_data]    |   Package webtext is already up-to-date!\n",
            "[nltk_data]    | Downloading package wordnet to /root/nltk_data...\n",
            "[nltk_data]    |   Package wordnet is already up-to-date!\n",
            "[nltk_data]    | Downloading package wordnet_ic to /root/nltk_data...\n",
            "[nltk_data]    |   Package wordnet_ic is already up-to-date!\n",
            "[nltk_data]    | Downloading package words to /root/nltk_data...\n",
            "[nltk_data]    |   Package words is already up-to-date!\n",
            "[nltk_data]    | Downloading package ycoe to /root/nltk_data...\n",
            "[nltk_data]    |   Package ycoe is already up-to-date!\n",
            "[nltk_data]    | Downloading package rslp to /root/nltk_data...\n",
            "[nltk_data]    |   Package rslp is already up-to-date!\n",
            "[nltk_data]    | Downloading package maxent_treebank_pos_tagger to\n",
            "[nltk_data]    |     /root/nltk_data...\n",
            "[nltk_data]    |   Package maxent_treebank_pos_tagger is already up-\n",
            "[nltk_data]    |       to-date!\n",
            "[nltk_data]    | Downloading package universal_tagset to\n",
            "[nltk_data]    |     /root/nltk_data...\n",
            "[nltk_data]    |   Package universal_tagset is already up-to-date!\n",
            "[nltk_data]    | Downloading package maxent_ne_chunker to\n",
            "[nltk_data]    |     /root/nltk_data...\n",
            "[nltk_data]    |   Package maxent_ne_chunker is already up-to-date!\n",
            "[nltk_data]    | Downloading package punkt to /root/nltk_data...\n",
            "[nltk_data]    |   Package punkt is already up-to-date!\n",
            "[nltk_data]    | Downloading package book_grammars to\n",
            "[nltk_data]    |     /root/nltk_data...\n",
            "[nltk_data]    |   Package book_grammars is already up-to-date!\n",
            "[nltk_data]    | Downloading package sample_grammars to\n",
            "[nltk_data]    |     /root/nltk_data...\n",
            "[nltk_data]    |   Package sample_grammars is already up-to-date!\n",
            "[nltk_data]    | Downloading package spanish_grammars to\n",
            "[nltk_data]    |     /root/nltk_data...\n",
            "[nltk_data]    |   Package spanish_grammars is already up-to-date!\n",
            "[nltk_data]    | Downloading package basque_grammars to\n",
            "[nltk_data]    |     /root/nltk_data...\n",
            "[nltk_data]    |   Package basque_grammars is already up-to-date!\n",
            "[nltk_data]    | Downloading package large_grammars to\n",
            "[nltk_data]    |     /root/nltk_data...\n",
            "[nltk_data]    |   Package large_grammars is already up-to-date!\n",
            "[nltk_data]    | Downloading package tagsets to /root/nltk_data...\n",
            "[nltk_data]    |   Package tagsets is already up-to-date!\n",
            "[nltk_data]    | Downloading package snowball_data to\n",
            "[nltk_data]    |     /root/nltk_data...\n",
            "[nltk_data]    |   Package snowball_data is already up-to-date!\n",
            "[nltk_data]    | Downloading package bllip_wsj_no_aux to\n",
            "[nltk_data]    |     /root/nltk_data...\n",
            "[nltk_data]    |   Package bllip_wsj_no_aux is already up-to-date!\n",
            "[nltk_data]    | Downloading package word2vec_sample to\n",
            "[nltk_data]    |     /root/nltk_data...\n",
            "[nltk_data]    |   Package word2vec_sample is already up-to-date!\n",
            "[nltk_data]    | Downloading package panlex_swadesh to\n",
            "[nltk_data]    |     /root/nltk_data...\n",
            "[nltk_data]    |   Package panlex_swadesh is already up-to-date!\n",
            "[nltk_data]    | Downloading package mte_teip5 to /root/nltk_data...\n",
            "[nltk_data]    |   Package mte_teip5 is already up-to-date!\n",
            "[nltk_data]    | Downloading package averaged_perceptron_tagger to\n",
            "[nltk_data]    |     /root/nltk_data...\n",
            "[nltk_data]    |   Package averaged_perceptron_tagger is already up-\n",
            "[nltk_data]    |       to-date!\n",
            "[nltk_data]    | Downloading package averaged_perceptron_tagger_ru to\n",
            "[nltk_data]    |     /root/nltk_data...\n",
            "[nltk_data]    |   Package averaged_perceptron_tagger_ru is already\n",
            "[nltk_data]    |       up-to-date!\n",
            "[nltk_data]    | Downloading package perluniprops to\n",
            "[nltk_data]    |     /root/nltk_data...\n",
            "[nltk_data]    |   Package perluniprops is already up-to-date!\n",
            "[nltk_data]    | Downloading package nonbreaking_prefixes to\n",
            "[nltk_data]    |     /root/nltk_data...\n",
            "[nltk_data]    |   Package nonbreaking_prefixes is already up-to-date!\n",
            "[nltk_data]    | Downloading package vader_lexicon to\n",
            "[nltk_data]    |     /root/nltk_data...\n",
            "[nltk_data]    |   Package vader_lexicon is already up-to-date!\n",
            "[nltk_data]    | Downloading package porter_test to /root/nltk_data...\n",
            "[nltk_data]    |   Package porter_test is already up-to-date!\n",
            "[nltk_data]    | Downloading package wmt15_eval to /root/nltk_data...\n",
            "[nltk_data]    |   Package wmt15_eval is already up-to-date!\n",
            "[nltk_data]    | Downloading package mwa_ppdb to /root/nltk_data...\n",
            "[nltk_data]    |   Package mwa_ppdb is already up-to-date!\n",
            "[nltk_data]    | \n",
            "[nltk_data]  Done downloading collection all\n"
          ],
          "name": "stdout"
        },
        {
          "output_type": "execute_result",
          "data": {
            "text/plain": [
              "True"
            ]
          },
          "metadata": {
            "tags": []
          },
          "execution_count": 47
        }
      ]
    },
    {
      "cell_type": "code",
      "metadata": {
        "id": "A4n58fkig5KL",
        "colab_type": "code",
        "colab": {}
      },
      "source": [
        "import matplotlib.pyplot as plt\n",
        "import collections\n",
        "\n",
        "import unicodedata\n",
        "import re\n",
        "import numpy as np\n",
        "import os\n",
        "import io\n",
        "import itertools\n",
        "\n",
        "\n",
        "import random\n",
        "import pickle\n",
        "import os\n",
        "sep = os.sep\n",
        "import os.path\n",
        "\n",
        "import pandas as pd\n",
        "import bisect\n",
        "import time\n",
        "import scipy.stats as stats\n",
        "\n",
        "import datetime\n",
        "\n",
        "import glob"
      ],
      "execution_count": 0,
      "outputs": []
    },
    {
      "cell_type": "code",
      "metadata": {
        "id": "QeqX7HRpBigk",
        "colab_type": "code",
        "colab": {}
      },
      "source": [
        "from nltk.tokenize import word_tokenize\n",
        "from nltk.book import *\n",
        "\n",
        "from sklearn.model_selection import KFold, train_test_split\n",
        "from sklearn.linear_model import LinearRegression\n",
        "from sklearn import preprocessing\n",
        "from sklearn.feature_extraction.text import CountVectorizer, TfidfVectorizer\n",
        "\n",
        "from sklearn import metrics\n",
        "from sklearn.linear_model import SGDClassifier, LogisticRegression\n",
        "from sklearn.feature_extraction.text import CountVectorizer, TfidfVectorizer\n",
        "from sklearn.neural_network import MLPClassifier\n",
        "from sklearn.neighbors import KNeighborsClassifier\n",
        "from sklearn.svm import SVC\n",
        "from sklearn.gaussian_process import GaussianProcessClassifier\n",
        "from sklearn.gaussian_process.kernels import RBF\n",
        "from sklearn.tree import DecisionTreeClassifier\n",
        "from sklearn.ensemble import RandomForestClassifier, AdaBoostClassifier, VotingClassifier\n",
        "from sklearn.naive_bayes import GaussianNB\n",
        "from sklearn.discriminant_analysis import QuadraticDiscriminantAnalysis\n",
        "from sklearn.dummy import DummyClassifier\n",
        "\n",
        "import warnings; warnings.simplefilter('ignore')\n",
        "from collections import Counter\n",
        "from stop_words import get_stop_words\n"
      ],
      "execution_count": 0,
      "outputs": []
    },
    {
      "cell_type": "markdown",
      "metadata": {
        "id": "s6m5UOXClc5v",
        "colab_type": "text"
      },
      "source": [
        "#Download Data"
      ]
    },
    {
      "cell_type": "code",
      "metadata": {
        "id": "tT5sY3dasl51",
        "colab_type": "code",
        "colab": {}
      },
      "source": [
        "path_data = 'drive/My Drive/Colab Notebooks/RemoteML/Data/'"
      ],
      "execution_count": 0,
      "outputs": []
    },
    {
      "cell_type": "code",
      "metadata": {
        "id": "mKnskzj5wx-n",
        "colab_type": "code",
        "outputId": "bb8272c9-597f-4ce6-9f3b-2e5957bce836",
        "colab": {
          "base_uri": "https://localhost:8080/",
          "height": 428
        }
      },
      "source": [
        "train = pd.read_json(path_data+\"dutch1.json\")\n",
        "train.head()\n"
      ],
      "execution_count": 0,
      "outputs": [
        {
          "output_type": "execute_result",
          "data": {
            "text/html": [
              "<div>\n",
              "<style scoped>\n",
              "    .dataframe tbody tr th:only-of-type {\n",
              "        vertical-align: middle;\n",
              "    }\n",
              "\n",
              "    .dataframe tbody tr th {\n",
              "        vertical-align: top;\n",
              "    }\n",
              "\n",
              "    .dataframe thead th {\n",
              "        text-align: right;\n",
              "    }\n",
              "</style>\n",
              "<table border=\"1\" class=\"dataframe\">\n",
              "  <thead>\n",
              "    <tr style=\"text-align: right;\">\n",
              "      <th></th>\n",
              "      <th>author_avatar_url</th>\n",
              "      <th>author_gender</th>\n",
              "      <th>author_location</th>\n",
              "      <th>author_name</th>\n",
              "      <th>author_url</th>\n",
              "      <th>author_username</th>\n",
              "      <th>batch_name</th>\n",
              "      <th>brands</th>\n",
              "      <th>categories</th>\n",
              "      <th>content</th>\n",
              "      <th>emotion</th>\n",
              "      <th>id</th>\n",
              "      <th>language</th>\n",
              "      <th>noise</th>\n",
              "      <th>other</th>\n",
              "      <th>posted_at</th>\n",
              "      <th>relevance_2</th>\n",
              "      <th>sentiment</th>\n",
              "      <th>source</th>\n",
              "      <th>source_domain</th>\n",
              "      <th>source_type</th>\n",
              "      <th>source_url</th>\n",
              "      <th>topics</th>\n",
              "      <th>url</th>\n",
              "      <th>who_curated</th>\n",
              "    </tr>\n",
              "  </thead>\n",
              "  <tbody>\n",
              "    <tr>\n",
              "      <th>0</th>\n",
              "      <td></td>\n",
              "      <td></td>\n",
              "      <td></td>\n",
              "      <td></td>\n",
              "      <td>http://youtube.com/channel/UClPonqYvdo_XD7m533...</td>\n",
              "      <td>Peter R. de Vries</td>\n",
              "      <td>Seeds_DUTCH_1-1</td>\n",
              "      <td></td>\n",
              "      <td></td>\n",
              "      <td>Onderzoek moord Endstra\\nKlippen\\nHet onderzoe...</td>\n",
              "      <td></td>\n",
              "      <td>629e6ddbc7d4ef1148b6744307d5025d5c6d12ea</td>\n",
              "      <td>Dutch</td>\n",
              "      <td></td>\n",
              "      <td></td>\n",
              "      <td>Sun Apr 23 15:35:14 2017</td>\n",
              "      <td>no</td>\n",
              "      <td></td>\n",
              "      <td>youtube</td>\n",
              "      <td>www.youtube.com</td>\n",
              "      <td>video</td>\n",
              "      <td>http://www.youtube.com/</td>\n",
              "      <td></td>\n",
              "      <td>https://www.youtube.com/watch?v=DVUjqOxn2SE</td>\n",
              "      <td>Brechtje</td>\n",
              "    </tr>\n",
              "    <tr>\n",
              "      <th>1</th>\n",
              "      <td></td>\n",
              "      <td></td>\n",
              "      <td></td>\n",
              "      <td></td>\n",
              "      <td>http://youtube.com/channel/UCtVRhmseKQa2DcQnMl...</td>\n",
              "      <td>Pphvideo</td>\n",
              "      <td>Seeds_DUTCH_1-1</td>\n",
              "      <td></td>\n",
              "      <td></td>\n",
              "      <td>Een dorsmachine wordt gebruikt voor het dorsen...</td>\n",
              "      <td></td>\n",
              "      <td>3054dced040ee03753c98ccc77e1638f3db9bbe8</td>\n",
              "      <td>Dutch</td>\n",
              "      <td></td>\n",
              "      <td></td>\n",
              "      <td>Wed Sep 21 17:53:52 2016</td>\n",
              "      <td>yes</td>\n",
              "      <td>neutral</td>\n",
              "      <td>youtube</td>\n",
              "      <td>www.youtube.com</td>\n",
              "      <td>video</td>\n",
              "      <td>http://www.youtube.com/</td>\n",
              "      <td></td>\n",
              "      <td>https://www.youtube.com/watch?v=2FYB25e0_4E</td>\n",
              "      <td>Brechtje</td>\n",
              "    </tr>\n",
              "    <tr>\n",
              "      <th>2</th>\n",
              "      <td></td>\n",
              "      <td></td>\n",
              "      <td></td>\n",
              "      <td></td>\n",
              "      <td></td>\n",
              "      <td>tuinvrouw agnes</td>\n",
              "      <td>Seeds_DUTCH_1-1</td>\n",
              "      <td></td>\n",
              "      <td></td>\n",
              "      <td>De plant groeit vanuit een flinke bol,eerst on...</td>\n",
              "      <td></td>\n",
              "      <td>45b7eaddb3f9caaa47795faa7b383536a68e0472</td>\n",
              "      <td>Dutch</td>\n",
              "      <td></td>\n",
              "      <td></td>\n",
              "      <td>Mon Sep 19 22:09:01 2016</td>\n",
              "      <td>yes</td>\n",
              "      <td>neutral</td>\n",
              "      <td>tuin den horst</td>\n",
              "      <td>blog.seniorennet.be</td>\n",
              "      <td>blog</td>\n",
              "      <td>http://blog.seniorennet.be/tuindenhorst/</td>\n",
              "      <td></td>\n",
              "      <td>http://blog.seniorennet.be/tuindenhorst/archie...</td>\n",
              "      <td>Brechtje</td>\n",
              "    </tr>\n",
              "    <tr>\n",
              "      <th>3</th>\n",
              "      <td></td>\n",
              "      <td></td>\n",
              "      <td></td>\n",
              "      <td></td>\n",
              "      <td></td>\n",
              "      <td>Marja van Spaandonk</td>\n",
              "      <td>Seeds_DUTCH_1-1</td>\n",
              "      <td></td>\n",
              "      <td></td>\n",
              "      <td>Sommige planten verdwijnen gewoon\\nFoto Taco v...</td>\n",
              "      <td></td>\n",
              "      <td>4464d4140d217e6f7565f91031242f08a8088ea0</td>\n",
              "      <td>Dutch</td>\n",
              "      <td></td>\n",
              "      <td></td>\n",
              "      <td>Sat Jul 23 13:30:25 2016</td>\n",
              "      <td>no</td>\n",
              "      <td></td>\n",
              "      <td>Leidsch Dagblad</td>\n",
              "      <td>www.leidschdagblad.nl</td>\n",
              "      <td>news</td>\n",
              "      <td>http://www.leidschdagblad.nl</td>\n",
              "      <td></td>\n",
              "      <td>http://www.leidschdagblad.nl/thema/mens/articl...</td>\n",
              "      <td>Brechtje</td>\n",
              "    </tr>\n",
              "    <tr>\n",
              "      <th>4</th>\n",
              "      <td></td>\n",
              "      <td></td>\n",
              "      <td></td>\n",
              "      <td></td>\n",
              "      <td></td>\n",
              "      <td></td>\n",
              "      <td>Seeds_DUTCH_1-1</td>\n",
              "      <td></td>\n",
              "      <td></td>\n",
              "      <td>Het is wetenschappelijk bewezen dat een slaapt...</td>\n",
              "      <td></td>\n",
              "      <td>1a7bbad11ff292f7bb67ea27442285f215439b12</td>\n",
              "      <td>Dutch</td>\n",
              "      <td></td>\n",
              "      <td></td>\n",
              "      <td>Tue Jan 17 14:06:04 2017</td>\n",
              "      <td>no</td>\n",
              "      <td></td>\n",
              "      <td>www.gezondheidsnet.nl</td>\n",
              "      <td>www.gezondheidsnet.nl</td>\n",
              "      <td>news</td>\n",
              "      <td>http://www.gezondheidsnet.nl</td>\n",
              "      <td></td>\n",
              "      <td>https://www.gezondheidsnet.nl/overgewicht-en-a...</td>\n",
              "      <td>Brechtje</td>\n",
              "    </tr>\n",
              "  </tbody>\n",
              "</table>\n",
              "</div>"
            ],
            "text/plain": [
              "  author_avatar_url  ... who_curated\n",
              "0                    ...    Brechtje\n",
              "1                    ...    Brechtje\n",
              "2                    ...    Brechtje\n",
              "3                    ...    Brechtje\n",
              "4                    ...    Brechtje\n",
              "\n",
              "[5 rows x 25 columns]"
            ]
          },
          "metadata": {
            "tags": []
          },
          "execution_count": 51
        }
      ]
    },
    {
      "cell_type": "code",
      "metadata": {
        "id": "GgRZ3Vnfv47E",
        "colab_type": "code",
        "colab": {}
      },
      "source": [
        "all_files = glob.glob(path_data + \"/*.json\")\n",
        "\n",
        "li = []\n",
        "\n",
        "for filename in all_files:\n",
        "    df = pd.read_json(filename)\n",
        "    li.append(df)\n",
        "\n",
        "df = pd.concat(li, axis=0, ignore_index=True)"
      ],
      "execution_count": 0,
      "outputs": []
    },
    {
      "cell_type": "markdown",
      "metadata": {
        "id": "Vtnxj2jsqrDV",
        "colab_type": "text"
      },
      "source": [
        "##Filtering"
      ]
    },
    {
      "cell_type": "markdown",
      "metadata": {
        "id": "h_Hb722wfccA",
        "colab_type": "text"
      },
      "source": [
        "Lets see what we get in the column sentiment"
      ]
    },
    {
      "cell_type": "code",
      "metadata": {
        "id": "Rve-eLKOxTie",
        "colab_type": "code",
        "outputId": "f50a8504-5ba2-4b18-b8a4-f0dc26008444",
        "colab": {
          "base_uri": "https://localhost:8080/",
          "height": 34
        }
      },
      "source": [
        "print(set(df[\"sentiment\"]))"
      ],
      "execution_count": 0,
      "outputs": [
        {
          "output_type": "stream",
          "text": [
            "{'', nan, 'not sure', 'positive', 'neutral', 'negative'}\n"
          ],
          "name": "stdout"
        }
      ]
    },
    {
      "cell_type": "markdown",
      "metadata": {
        "id": "-bU260Lsfj5y",
        "colab_type": "text"
      },
      "source": [
        "Filter those rows unannotated"
      ]
    },
    {
      "cell_type": "code",
      "metadata": {
        "id": "Yvkz7PADxdXp",
        "colab_type": "code",
        "colab": {}
      },
      "source": [
        "df1 = df[~((df[\"sentiment\"]== \"\"))]"
      ],
      "execution_count": 0,
      "outputs": []
    },
    {
      "cell_type": "markdown",
      "metadata": {
        "id": "jtvjLkbefqMM",
        "colab_type": "text"
      },
      "source": [
        "Filter rows nan"
      ]
    },
    {
      "cell_type": "code",
      "metadata": {
        "id": "xYd_wjeK8wX6",
        "colab_type": "code",
        "colab": {}
      },
      "source": [
        "df1.dropna(subset=['sentiment'],inplace=True)"
      ],
      "execution_count": 0,
      "outputs": []
    },
    {
      "cell_type": "code",
      "metadata": {
        "id": "irSQt9J_7t1g",
        "colab_type": "code",
        "outputId": "d5b80dfb-54bb-4591-836b-baa81f1238de",
        "colab": {
          "base_uri": "https://localhost:8080/",
          "height": 34
        }
      },
      "source": [
        "print(set(df1[\"sentiment\"]))\n"
      ],
      "execution_count": 0,
      "outputs": [
        {
          "output_type": "stream",
          "text": [
            "{'negative', 'not sure', 'positive', 'neutral'}\n"
          ],
          "name": "stdout"
        }
      ]
    },
    {
      "cell_type": "markdown",
      "metadata": {
        "id": "rbZKNQSpfu6z",
        "colab_type": "text"
      },
      "source": [
        "I am not sure what the \"not sure\" classes means and as I do not know dutch, I dont expect to get some inside just by seeing some examples. I will keep this class, but it would be really useful to get some feedback about this class."
      ]
    },
    {
      "cell_type": "markdown",
      "metadata": {
        "id": "W-k4pbclq0-k",
        "colab_type": "text"
      },
      "source": [
        "##Separating by classes"
      ]
    },
    {
      "cell_type": "code",
      "metadata": {
        "id": "qvIXIBLC01gQ",
        "colab_type": "code",
        "outputId": "241b26c4-0de9-467d-a887-2a6f1e93681c",
        "colab": {
          "base_uri": "https://localhost:8080/",
          "height": 34
        }
      },
      "source": [
        "all_texts_pos = df1[df1[\"sentiment\"] ==\"positive\"][\"content\"].str.cat(sep=' ')\n",
        "len(all_texts_pos)"
      ],
      "execution_count": 0,
      "outputs": [
        {
          "output_type": "execute_result",
          "data": {
            "text/plain": [
              "169028"
            ]
          },
          "metadata": {
            "tags": []
          },
          "execution_count": 57
        }
      ]
    },
    {
      "cell_type": "code",
      "metadata": {
        "id": "rxBoLlxJ1GPm",
        "colab_type": "code",
        "outputId": "9c45602b-9ce3-4323-b1da-7cc7b68fc600",
        "colab": {
          "base_uri": "https://localhost:8080/",
          "height": 34
        }
      },
      "source": [
        "all_texts_neg = df1[df1[\"sentiment\"] ==\"negative\"][\"content\"].str.cat(sep=' ')\n",
        "len(all_texts_neg)"
      ],
      "execution_count": 0,
      "outputs": [
        {
          "output_type": "execute_result",
          "data": {
            "text/plain": [
              "34947"
            ]
          },
          "metadata": {
            "tags": []
          },
          "execution_count": 58
        }
      ]
    },
    {
      "cell_type": "code",
      "metadata": {
        "id": "XBNxugV91kSk",
        "colab_type": "code",
        "outputId": "3f619362-7544-4e3b-9780-e2a380ba1669",
        "colab": {
          "base_uri": "https://localhost:8080/",
          "height": 34
        }
      },
      "source": [
        "all_texts_neu = df1[df1[\"sentiment\"] ==\"neutral\"][\"content\"].str.cat(sep=' ')\n",
        "len(all_texts_neu)\n"
      ],
      "execution_count": 0,
      "outputs": [
        {
          "output_type": "execute_result",
          "data": {
            "text/plain": [
              "512653"
            ]
          },
          "metadata": {
            "tags": []
          },
          "execution_count": 59
        }
      ]
    },
    {
      "cell_type": "code",
      "metadata": {
        "id": "JFLnNMRv1kPC",
        "colab_type": "code",
        "outputId": "3363185b-d9e0-4b80-9c6b-61d8cb0824f4",
        "colab": {
          "base_uri": "https://localhost:8080/",
          "height": 34
        }
      },
      "source": [
        "all_texts_notsure = df1[df1[\"sentiment\"] ==\"not sure\"][\"content\"].str.cat(sep=' ')\n",
        "len(all_texts_notsure)\n"
      ],
      "execution_count": 0,
      "outputs": [
        {
          "output_type": "execute_result",
          "data": {
            "text/plain": [
              "31968"
            ]
          },
          "metadata": {
            "tags": []
          },
          "execution_count": 60
        }
      ]
    },
    {
      "cell_type": "code",
      "metadata": {
        "id": "KIH_UgRO1kLz",
        "colab_type": "code",
        "colab": {}
      },
      "source": [
        "all_texts_pos_toke = word_tokenize(all_texts_pos)\n",
        "all_texts_neg_toke = word_tokenize(all_texts_neg)\n",
        "all_texts_neu_toke = word_tokenize(all_texts_neu)\n",
        "all_texts_notsure_toke = word_tokenize(all_texts_notsure)"
      ],
      "execution_count": 0,
      "outputs": []
    },
    {
      "cell_type": "markdown",
      "metadata": {
        "id": "YItwwzVKq7Fq",
        "colab_type": "text"
      },
      "source": [
        "##Some featuring engineering and visualizations"
      ]
    },
    {
      "cell_type": "markdown",
      "metadata": {
        "id": "48NhNuX-gX10",
        "colab_type": "text"
      },
      "source": [
        "###This section show the most frequent terms for each class"
      ]
    },
    {
      "cell_type": "code",
      "metadata": {
        "id": "BhnqLUSSIcL8",
        "colab_type": "code",
        "outputId": "4ed54b05-70f7-4546-a8a6-1deb03016703",
        "colab": {
          "base_uri": "https://localhost:8080/",
          "height": 481
        }
      },
      "source": [
        "counter_all_texts_pos = FreqDist(all_texts_pos_toke)\n",
        "counter_all_texts_pos.plot(20)\n",
        "counter_all_texts_pos.most_common(10)"
      ],
      "execution_count": 0,
      "outputs": [
        {
          "output_type": "display_data",
          "data": {
            "image/png": "[encoded data removed]",
            "text/plain": [
              "<Figure size 432x288 with 1 Axes>"
            ]
          },
          "metadata": {
            "tags": []
          }
        },
        {
          "output_type": "execute_result",
          "data": {
            "text/plain": [
              "[('.', 1264),\n",
              " ('de', 1040),\n",
              " ('en', 757),\n",
              " (':', 613),\n",
              " (',', 533),\n",
              " ('in', 528),\n",
              " ('van', 483),\n",
              " ('een', 468),\n",
              " ('het', 429),\n",
              " ('planten', 374)]"
            ]
          },
          "metadata": {
            "tags": []
          },
          "execution_count": 62
        }
      ]
    },
    {
      "cell_type": "code",
      "metadata": {
        "id": "vRafrVFJKuH_",
        "colab_type": "code",
        "outputId": "0c33bec6-c348-47d1-99e8-66acd7ca2e71",
        "colab": {
          "base_uri": "https://localhost:8080/",
          "height": 481
        }
      },
      "source": [
        "counter_all_texts_pos = FreqDist(all_texts_pos_toke)\n",
        "counter_all_texts_pos.plot(20)\n",
        "counter_all_texts_pos.most_common(10)"
      ],
      "execution_count": 0,
      "outputs": [
        {
          "output_type": "display_data",
          "data": {
            "image/png": "[encoded data removed]",
            "text/plain": [
              "<Figure size 432x288 with 1 Axes>"
            ]
          },
          "metadata": {
            "tags": []
          }
        },
        {
          "output_type": "execute_result",
          "data": {
            "text/plain": [
              "[('.', 1264),\n",
              " ('de', 1040),\n",
              " ('en', 757),\n",
              " (':', 613),\n",
              " (',', 533),\n",
              " ('in', 528),\n",
              " ('van', 483),\n",
              " ('een', 468),\n",
              " ('het', 429),\n",
              " ('planten', 374)]"
            ]
          },
          "metadata": {
            "tags": []
          },
          "execution_count": 63
        }
      ]
    },
    {
      "cell_type": "code",
      "metadata": {
        "id": "i3tbh2CKKuL4",
        "colab_type": "code",
        "outputId": "8134368d-4cc6-4d01-f3be-359ef70a1965",
        "colab": {
          "base_uri": "https://localhost:8080/",
          "height": 468
        }
      },
      "source": [
        "counter_all_texts_neg = FreqDist(all_texts_neg_toke)\n",
        "counter_all_texts_neg.plot(20)\n",
        "counter_all_texts_neg.most_common(10)"
      ],
      "execution_count": 0,
      "outputs": [
        {
          "output_type": "display_data",
          "data": {
            "image/png": "[encoded data removed]",
            "text/plain": [
              "<Figure size 432x288 with 1 Axes>"
            ]
          },
          "metadata": {
            "tags": []
          }
        },
        {
          "output_type": "execute_result",
          "data": {
            "text/plain": [
              "[('.', 228),\n",
              " ('de', 157),\n",
              " (':', 140),\n",
              " ('en', 106),\n",
              " ('van', 89),\n",
              " ('#', 88),\n",
              " ('@', 87),\n",
              " ('in', 78),\n",
              " (',', 78),\n",
              " ('het', 59)]"
            ]
          },
          "metadata": {
            "tags": []
          },
          "execution_count": 64
        }
      ]
    },
    {
      "cell_type": "code",
      "metadata": {
        "id": "aW_ZNxb1I5-u",
        "colab_type": "code",
        "outputId": "ce198551-229d-46fa-c17b-9ace7f09e083",
        "colab": {
          "base_uri": "https://localhost:8080/",
          "height": 481
        }
      },
      "source": [
        "counter_all_texts_neu = FreqDist(all_texts_neu_toke)\n",
        "counter_all_texts_neu.plot(20)\n",
        "counter_all_texts_neu.most_common(10)"
      ],
      "execution_count": 0,
      "outputs": [
        {
          "output_type": "display_data",
          "data": {
            "image/png": "[encoded data removed]",
            "text/plain": [
              "<Figure size 432x288 with 1 Axes>"
            ]
          },
          "metadata": {
            "tags": []
          }
        },
        {
          "output_type": "execute_result",
          "data": {
            "text/plain": [
              "[('.', 3670),\n",
              " ('de', 2884),\n",
              " (':', 1953),\n",
              " ('en', 1899),\n",
              " (',', 1665),\n",
              " ('van', 1575),\n",
              " ('in', 1439),\n",
              " ('het', 1301),\n",
              " ('een', 1224),\n",
              " ('#', 902)]"
            ]
          },
          "metadata": {
            "tags": []
          },
          "execution_count": 65
        }
      ]
    },
    {
      "cell_type": "code",
      "metadata": {
        "id": "I0uqK2NiI6KC",
        "colab_type": "code",
        "outputId": "fc3b4d4a-a17f-4b28-93ed-217c91725512",
        "colab": {
          "base_uri": "https://localhost:8080/",
          "height": 481
        }
      },
      "source": [
        "counter_all_texts_notsure = FreqDist(all_texts_notsure_toke)\n",
        "counter_all_texts_notsure.plot(20)\n",
        "counter_all_texts_notsure.most_common(10)"
      ],
      "execution_count": 0,
      "outputs": [
        {
          "output_type": "display_data",
          "data": {
            "image/png": "[encoded data removed]",
            "text/plain": [
              "<Figure size 432x288 with 1 Axes>"
            ]
          },
          "metadata": {
            "tags": []
          }
        },
        {
          "output_type": "execute_result",
          "data": {
            "text/plain": [
              "[('.', 239),\n",
              " ('de', 170),\n",
              " (':', 126),\n",
              " ('van', 100),\n",
              " ('en', 99),\n",
              " ('het', 99),\n",
              " (',', 76),\n",
              " ('in', 71),\n",
              " ('is', 70),\n",
              " ('een', 68)]"
            ]
          },
          "metadata": {
            "tags": []
          },
          "execution_count": 66
        }
      ]
    },
    {
      "cell_type": "code",
      "metadata": {
        "id": "P1DKaFgoI6Ha",
        "colab_type": "code",
        "colab": {}
      },
      "source": [
        "vectorizer= CountVectorizer()\n",
        "repre = vectorizer.fit_transform(df1[\"content\"])"
      ],
      "execution_count": 0,
      "outputs": []
    },
    {
      "cell_type": "code",
      "metadata": {
        "id": "3RUgddekpT3B",
        "colab_type": "code",
        "outputId": "0c079f05-be8e-4056-841b-c7d0733a22eb",
        "colab": {
          "base_uri": "https://localhost:8080/",
          "height": 884
        }
      },
      "source": [
        "\n",
        "\"\"\"This shows the vectorizer as a disperse matrix, I would not recomend this approach, specially for text data, it is a lot of columns in \n",
        "addition to the number of rows and it is not an effective visualition to support decisions about feature engineering with so many rows and columns. \n",
        "I would use some feature selection approach (https://scikit-learn.org/stable/modules/feature_selection.html)\n",
        " and then plot those features that show more correlation with a particular class.\n",
        " I could do some experiment with feature selection if you are interested.\n",
        "The feature engineering approach that we are taking here is based on a back of words representation, that is effective for tasks like text \n",
        "classification by topics, but in the case of sentiment analisis, the sequential nature of text is important and it is lost with a bag of words approach.\n",
        "\"\"\"\n",
        "print(repre)"
      ],
      "execution_count": 0,
      "outputs": [
        {
          "output_type": "stream",
          "text": [
            "  (0, 6835)\t1\n",
            "  (0, 16203)\t1\n",
            "  (0, 1365)\t1\n",
            "  (0, 9933)\t2\n",
            "  (0, 1324)\t1\n",
            "  (0, 8834)\t1\n",
            "  (0, 8916)\t1\n",
            "  (0, 11142)\t1\n",
            "  (0, 1684)\t1\n",
            "  (0, 13509)\t1\n",
            "  (0, 16)\t1\n",
            "  (0, 682)\t1\n",
            "  (0, 5986)\t1\n",
            "  (0, 9963)\t1\n",
            "  (0, 15954)\t1\n",
            "  (0, 14104)\t1\n",
            "  (0, 15330)\t1\n",
            "  (0, 4430)\t1\n",
            "  (0, 2399)\t1\n",
            "  (0, 918)\t2\n",
            "  (0, 10415)\t1\n",
            "  (0, 8922)\t1\n",
            "  (0, 13666)\t1\n",
            "  (0, 3774)\t2\n",
            "  (0, 3870)\t1\n",
            "  :\t:\n",
            "  (3312, 5569)\t1\n",
            "  (3312, 2747)\t1\n",
            "  (3312, 15642)\t1\n",
            "  (3312, 6038)\t1\n",
            "  (3312, 15236)\t1\n",
            "  (3313, 918)\t1\n",
            "  (3313, 3774)\t1\n",
            "  (3313, 6836)\t1\n",
            "  (3313, 3425)\t1\n",
            "  (3313, 10465)\t1\n",
            "  (3313, 7253)\t1\n",
            "  (3313, 14379)\t1\n",
            "  (3313, 3954)\t1\n",
            "  (3313, 13935)\t1\n",
            "  (3313, 14385)\t1\n",
            "  (3313, 11149)\t1\n",
            "  (3313, 40)\t2\n",
            "  (3313, 9902)\t1\n",
            "  (3313, 4579)\t2\n",
            "  (3313, 5549)\t1\n",
            "  (3313, 11229)\t1\n",
            "  (3313, 8829)\t1\n",
            "  (3313, 10632)\t1\n",
            "  (3313, 8592)\t1\n",
            "  (3313, 3358)\t1\n"
          ],
          "name": "stdout"
        }
      ]
    },
    {
      "cell_type": "markdown",
      "metadata": {
        "id": "5arFBgFgpjPL",
        "colab_type": "text"
      },
      "source": [
        ""
      ]
    },
    {
      "cell_type": "code",
      "metadata": {
        "id": "960xD5tVJklZ",
        "colab_type": "code",
        "colab": {}
      },
      "source": [
        "df1.reset_index(inplace=True)"
      ],
      "execution_count": 0,
      "outputs": []
    },
    {
      "cell_type": "markdown",
      "metadata": {
        "id": "5gu6TTmUUG8p",
        "colab_type": "text"
      },
      "source": [
        "##Lets see the classes distribution"
      ]
    },
    {
      "cell_type": "code",
      "metadata": {
        "id": "j4LLCFTH7td7",
        "colab_type": "code",
        "outputId": "a95ce179-bd5d-43d2-e7c1-cbf0d8d6a34b",
        "colab": {
          "base_uri": "https://localhost:8080/",
          "height": 119
        }
      },
      "source": [
        "print(\"Clases distribution\")\n",
        "df1['sentiment'].value_counts()"
      ],
      "execution_count": 0,
      "outputs": [
        {
          "output_type": "stream",
          "text": [
            "Clases distribution\n"
          ],
          "name": "stdout"
        },
        {
          "output_type": "execute_result",
          "data": {
            "text/plain": [
              "neutral     2228\n",
              "positive     759\n",
              "negative     179\n",
              "not sure     148\n",
              "Name: sentiment, dtype: int64"
            ]
          },
          "metadata": {
            "tags": []
          },
          "execution_count": 70
        }
      ]
    },
    {
      "cell_type": "markdown",
      "metadata": {
        "id": "KPrzoLHLeuql",
        "colab_type": "text"
      },
      "source": [
        "There is a clear class unbalance. To deal with this I will do a small experiment oversampling the less represented classes."
      ]
    },
    {
      "cell_type": "markdown",
      "metadata": {
        "id": "ne6Xr3y1fMkK",
        "colab_type": "text"
      },
      "source": [
        "Lets make the classes labels numerical with the LabelEncoder from sklearn."
      ]
    },
    {
      "cell_type": "code",
      "metadata": {
        "id": "0WoG5tCn7tvT",
        "colab_type": "code",
        "colab": {}
      },
      "source": [
        "X = list(df1[\"content\"])\n",
        "y = list(df1[\"sentiment\"])\n",
        "\n",
        "le = preprocessing.LabelEncoder()\n",
        "y = le.fit_transform(y)\n",
        "\n",
        "df1[\"y\"] = y"
      ],
      "execution_count": 0,
      "outputs": []
    },
    {
      "cell_type": "code",
      "metadata": {
        "id": "Rky5sBC4agll",
        "colab_type": "code",
        "outputId": "41501ff3-5161-4b29-f966-4729e6f32299",
        "colab": {
          "base_uri": "https://localhost:8080/",
          "height": 34
        }
      },
      "source": [
        "le.classes_"
      ],
      "execution_count": 0,
      "outputs": [
        {
          "output_type": "execute_result",
          "data": {
            "text/plain": [
              "array(['negative', 'neutral', 'not sure', 'positive'], dtype='<U8')"
            ]
          },
          "metadata": {
            "tags": []
          },
          "execution_count": 72
        }
      ]
    },
    {
      "cell_type": "markdown",
      "metadata": {
        "id": "0Qh1tWKGg4iR",
        "colab_type": "text"
      },
      "source": [
        "##First lets split in train-test. \n",
        "\n",
        "Any data oversampling, subsampling or manipulation to deal with class unbalance should be done over the training dataset after splitting in train-test. As we are not setting any hyperparameter for the classification models, we are only using training and testing but if we were going to set any hyperparameter we should do train-validation-test, then use validation to set the hyperparameters and report results using the test set."
      ]
    },
    {
      "cell_type": "code",
      "metadata": {
        "colab_type": "code",
        "id": "P-RAqPZ6aZJN",
        "colab": {}
      },
      "source": [
        "Xtrain, Xtest, ytrain, ytest = train_test_split(df1[\"content\"], df1[\"y\"], test_size=0.2, stratify=df1[\"y\"])"
      ],
      "execution_count": 0,
      "outputs": []
    },
    {
      "cell_type": "markdown",
      "metadata": {
        "id": "O6Cb9RTYgbs9",
        "colab_type": "text"
      },
      "source": [
        "###Now lets do something about the class unbalance. "
      ]
    },
    {
      "cell_type": "code",
      "metadata": {
        "id": "ErKnptCnfzyG",
        "colab_type": "code",
        "colab": {}
      },
      "source": [
        "Xtest = pd.DataFrame(Xtest)\n",
        "ytest = pd.DataFrame(ytest)"
      ],
      "execution_count": 0,
      "outputs": []
    },
    {
      "cell_type": "code",
      "metadata": {
        "id": "j74r0TuYZPZI",
        "colab_type": "code",
        "colab": {}
      },
      "source": [
        "ytrain = ytrain.reset_index()\n",
        "Xtrain = Xtrain.reset_index()"
      ],
      "execution_count": 0,
      "outputs": []
    },
    {
      "cell_type": "markdown",
      "metadata": {
        "id": "axyIm5NRhDYW",
        "colab_type": "text"
      },
      "source": [
        "In this cell I will oversample the less represented classes"
      ]
    },
    {
      "cell_type": "code",
      "metadata": {
        "id": "Z6IViZylYvXc",
        "colab_type": "code",
        "outputId": "51783e15-2663-44af-fc94-2883033e40f2",
        "colab": {
          "base_uri": "https://localhost:8080/",
          "height": 136
        }
      },
      "source": [
        "idx = np.random.choice(ytrain[ytrain[\"y\"] == 0].index, size=465)\n",
        "Xtrain_oversampled = pd.concat([Xtrain, Xtrain.iloc[idx]])\n",
        "ytrain_oversampled = pd.concat([ytrain, ytrain.iloc[idx]])\n",
        "\n",
        "idx = np.random.choice(ytrain[ytrain[\"y\"] == 2].index, size=490)\n",
        "Xtrain_oversampled = pd.concat([Xtrain_oversampled, Xtrain.iloc[idx]])\n",
        "ytrain_oversampled = pd.concat([ytrain_oversampled, ytrain.iloc[idx]])\n",
        "ytrain_oversampled.info()"
      ],
      "execution_count": 0,
      "outputs": [
        {
          "output_type": "stream",
          "text": [
            "<class 'pandas.core.frame.DataFrame'>\n",
            "Int64Index: 3606 entries, 0 to 2547\n",
            "Data columns (total 2 columns):\n",
            "index    3606 non-null int64\n",
            "y        3606 non-null int64\n",
            "dtypes: int64(2)\n",
            "memory usage: 84.5 KB\n"
          ],
          "name": "stdout"
        }
      ]
    },
    {
      "cell_type": "code",
      "metadata": {
        "id": "qT8G5A8HbC0f",
        "colab_type": "code",
        "outputId": "0eb2092d-ca7a-4986-98ec-3a22b61e218d",
        "colab": {
          "base_uri": "https://localhost:8080/",
          "height": 102
        }
      },
      "source": [
        "inv_classes = le.inverse_transform(list(ytrain_oversampled[\"y\"]))\n",
        "pd.Series(inv_classes).value_counts()"
      ],
      "execution_count": 0,
      "outputs": [
        {
          "output_type": "execute_result",
          "data": {
            "text/plain": [
              "neutral     1782\n",
              "not sure     609\n",
              "negative     608\n",
              "positive     607\n",
              "dtype: int64"
            ]
          },
          "metadata": {
            "tags": []
          },
          "execution_count": 77
        }
      ]
    },
    {
      "cell_type": "code",
      "metadata": {
        "id": "JdZNnyB_cW2x",
        "colab_type": "code",
        "colab": {}
      },
      "source": [
        "Xtrain = list(Xtrain[\"content\"])\n",
        "Xtest = list(Xtest[\"content\"])\n",
        "ytrain =  list(ytrain[\"y\"])\n",
        "ytest = list(ytest[\"y\"])"
      ],
      "execution_count": 0,
      "outputs": []
    },
    {
      "cell_type": "code",
      "metadata": {
        "id": "Smxa6xAlku66",
        "colab_type": "code",
        "colab": {}
      },
      "source": [
        "Xtrain_oversampled = Xtrain_oversampled[\"content\"]\n",
        "ytrain_oversampled = ytrain_oversampled[\"y\"]\n"
      ],
      "execution_count": 0,
      "outputs": []
    },
    {
      "cell_type": "markdown",
      "metadata": {
        "id": "2PXzOb9EpbrV",
        "colab_type": "text"
      },
      "source": [
        "Since we are going to report several metrics, lets code a function that returns all the metrics.\n",
        "\n",
        "I report precision, recall, f1 and accuracy. \n",
        "\n",
        "It is worst mentioning that accuracy is not a recomended metric when dealing with settings of class unbalance."
      ]
    },
    {
      "cell_type": "code",
      "metadata": {
        "id": "CyJFoDJbRehS",
        "colab_type": "code",
        "colab": {}
      },
      "source": [
        "# Evaluate the performance of your model\n",
        "def report_metrics(true_labels, predicted_labels):\n",
        "    acc = metrics.accuracy_score(true_labels, predicted_labels)\n",
        "    prec = metrics.precision_score(true_labels, predicted_labels, average='weighted')\n",
        "    recall =  metrics.recall_score(true_labels, predicted_labels, average='weighted')\n",
        "    f1 = metrics.f1_score(true_labels, predicted_labels, average='weighted')\n",
        "    return acc, prec, recall, f1"
      ],
      "execution_count": 0,
      "outputs": []
    },
    {
      "cell_type": "markdown",
      "metadata": {
        "id": "aawuFUYxqdoE",
        "colab_type": "text"
      },
      "source": [
        "This function takes as input a model, the data, a vectorizer and then shows the evaluation metrics."
      ]
    },
    {
      "cell_type": "code",
      "metadata": {
        "id": "ZzF3e8mgIzVI",
        "colab_type": "code",
        "colab": {}
      },
      "source": [
        "def eval_model(model, Xtrain= Xtrain, ytrain= ytrain, Xtest= Xtest, ytest= ytest, vectorizer= CountVectorizer()):\n",
        "    vectorizer.fit(Xtrain)\n",
        "    model.fit(vectorizer.transform(Xtrain), ytrain)\n",
        "    pred = model.predict(vectorizer.transform(Xtest))\n",
        "    acc, prec, recall, f1 = report_metrics(ytest, pred)\n",
        "    \n",
        "    print(\"Acc \", acc)\n",
        "    print(\"Prec \", prec)\n",
        "    print(\"Recall \", recall)\n",
        "    print(\"F1 \", f1)"
      ],
      "execution_count": 0,
      "outputs": []
    },
    {
      "cell_type": "markdown",
      "metadata": {
        "id": "mHCEbo7rqtEa",
        "colab_type": "text"
      },
      "source": [
        "I try several classifiers. I was curious about how a voting classifier would perform so I choose five classifiers representing different hypothesis families and then combined them with a voting classifier. Also, I report a dummy classifier, it is important to prove that the model we are testing is at least better than a very simple baseline."
      ]
    },
    {
      "cell_type": "code",
      "metadata": {
        "id": "7VPNIW_9Zi8l",
        "colab_type": "code",
        "colab": {}
      },
      "source": [
        "names = [\"Dummy\", \"Nearest Neighbors\",  \n",
        "         \"Decision Tree\", \"AdaBoost\",\"LogisticRegression\",\"Neural Net\",\"Voting\"]\n",
        "\n",
        "classifiers_voting = [\n",
        "    KNeighborsClassifier(n_neighbors=7, metric='cosine'),\n",
        "    DecisionTreeClassifier(max_depth=5),\n",
        "    AdaBoostClassifier(),\n",
        "    LogisticRegression(),\n",
        "    MLPClassifier()]\n",
        "\n",
        "classifiers = [\n",
        "    DummyClassifier(),\n",
        "    KNeighborsClassifier(n_neighbors=7, metric='cosine'),\n",
        "    DecisionTreeClassifier(max_depth=5),\n",
        "    AdaBoostClassifier(),\n",
        "    LogisticRegression(),\n",
        "    MLPClassifier(),\n",
        "    VotingClassifier(list(zip(names[1:6],classifiers_voting)))]"
      ],
      "execution_count": 0,
      "outputs": []
    },
    {
      "cell_type": "markdown",
      "metadata": {
        "id": "on0YDcLcscr5",
        "colab_type": "text"
      },
      "source": [
        "I use a st of stop words to reduce the vocabulary. We are using a bag of words approach which do not considers the order of the words, using stop-words can mislead the model. I do not include puntuation marks but those should be excluded too."
      ]
    },
    {
      "cell_type": "code",
      "metadata": {
        "id": "WVfE0dTKlEuh",
        "colab_type": "code",
        "colab": {}
      },
      "source": [
        "stopwords = get_stop_words('dutch')\n",
        "stopwords = stopwords + get_stop_words('english')\n",
        "stopwords.append(\"rt\")\n",
        "stopwords.append(\"https\")\n",
        "stopwords.append(\"http\")\n",
        "stopwords.append(\"co\")"
      ],
      "execution_count": 0,
      "outputs": []
    },
    {
      "cell_type": "code",
      "metadata": {
        "id": "CXtCJK8GmAFe",
        "colab_type": "code",
        "outputId": "5a2e9d37-66eb-4655-faeb-cc77e5438124",
        "colab": {
          "base_uri": "https://localhost:8080/",
          "height": 731
        }
      },
      "source": [
        "vectorizer = CountVectorizer(max_features=5000, max_df = 0.2, min_df = 10, stop_words=stopwords, tokenizer=word_tokenize) \n",
        "for i,model in enumerate(classifiers):\n",
        "    print(names[i])\n",
        "    eval_model(model,vectorizer=vectorizer)\n",
        "    print(\"\")\n"
      ],
      "execution_count": 0,
      "outputs": [
        {
          "output_type": "stream",
          "text": [
            "Dummy\n",
            "Acc  0.49924585218702866\n",
            "Prec  0.5129468326315613\n",
            "Recall  0.49924585218702866\n",
            "F1  0.5056160109280671\n",
            "\n",
            "Nearest Neighbors\n",
            "Acc  0.6757164404223228\n",
            "Prec  0.6041767001377226\n",
            "Recall  0.6757164404223228\n",
            "F1  0.6153193584642429\n",
            "\n",
            "Decision Tree\n",
            "Acc  0.6681749622926093\n",
            "Prec  0.5548430880529074\n",
            "Recall  0.6681749622926093\n",
            "F1  0.5669855807310235\n",
            "\n",
            "AdaBoost\n",
            "Acc  0.6500754147812972\n",
            "Prec  0.5741339008811011\n",
            "Recall  0.6500754147812972\n",
            "F1  0.5970429951359907\n",
            "\n",
            "LogisticRegression\n",
            "Acc  0.6636500754147813\n",
            "Prec  0.6071277648884039\n",
            "Recall  0.6636500754147813\n",
            "F1  0.6189226467460509\n",
            "\n",
            "Neural Net\n",
            "Acc  0.6470588235294118\n",
            "Prec  0.6132338231572411\n",
            "Recall  0.6470588235294118\n",
            "F1  0.6270585272261633\n",
            "\n",
            "Voting\n",
            "Acc  0.6847662141779789\n",
            "Prec  0.6083042166087149\n",
            "Recall  0.6847662141779789\n",
            "F1  0.6166792971261498\n",
            "\n"
          ],
          "name": "stdout"
        }
      ]
    },
    {
      "cell_type": "markdown",
      "metadata": {
        "id": "zQT8udM0yCw4",
        "colab_type": "text"
      },
      "source": [
        "All models outperformed the Dummy Classifier and Logistic Regression and the Voting Classifier show the best results. Logistic regression finds simple hypothesis of linearly separable datasets, this hypothesis is simple enough for this dataset.\n"
      ]
    },
    {
      "cell_type": "markdown",
      "metadata": {
        "id": "X5axyDQIzsuX",
        "colab_type": "text"
      },
      "source": [
        "Lets try tf-idf"
      ]
    },
    {
      "cell_type": "code",
      "metadata": {
        "id": "dFYgpbRH7tgy",
        "colab_type": "code",
        "outputId": "0b77d44a-d39a-4025-dcb2-99f4e6f37f07",
        "colab": {
          "base_uri": "https://localhost:8080/",
          "height": 731
        }
      },
      "source": [
        "vectorizer = TfidfVectorizer(max_features=5000, max_df = 0.2, min_df = 10, stop_words=stopwords, tokenizer=word_tokenize) \n",
        "for i,model in enumerate(classifiers):\n",
        "    print(names[i])\n",
        "    eval_model(model,vectorizer=vectorizer)\n",
        "    print(\"\")"
      ],
      "execution_count": 0,
      "outputs": [
        {
          "output_type": "stream",
          "text": [
            "Dummy\n",
            "Acc  0.5354449472096531\n",
            "Prec  0.5428390979796391\n",
            "Recall  0.5354449472096531\n",
            "F1  0.5390779804615657\n",
            "\n",
            "Nearest Neighbors\n",
            "Acc  0.669683257918552\n",
            "Prec  0.5930504547794608\n",
            "Recall  0.669683257918552\n",
            "F1  0.6038541358656501\n",
            "\n",
            "Decision Tree\n",
            "Acc  0.6726998491704375\n",
            "Prec  0.5668722129319955\n",
            "Recall  0.6726998491704375\n",
            "F1  0.5677245687905422\n",
            "\n",
            "AdaBoost\n",
            "Acc  0.6726998491704375\n",
            "Prec  0.5947174008555083\n",
            "Recall  0.6726998491704375\n",
            "F1  0.5861173228831381\n",
            "\n",
            "LogisticRegression\n",
            "Acc  0.6923076923076923\n",
            "Prec  0.6072091490252165\n",
            "Recall  0.6923076923076923\n",
            "F1  0.6170390137207633\n",
            "\n",
            "Neural Net\n",
            "Acc  0.6319758672699849\n",
            "Prec  0.6013245482712549\n",
            "Recall  0.6319758672699849\n",
            "F1  0.6144801682174527\n",
            "\n",
            "Voting\n",
            "Acc  0.6862745098039216\n",
            "Prec  0.6052260143469661\n",
            "Recall  0.6862745098039216\n",
            "F1  0.5992028184951753\n",
            "\n"
          ],
          "name": "stdout"
        }
      ]
    },
    {
      "cell_type": "markdown",
      "metadata": {
        "id": "zFbr1LFYz8aU",
        "colab_type": "text"
      },
      "source": [
        "We got similar results to using the CountVectorizer"
      ]
    },
    {
      "cell_type": "markdown",
      "metadata": {
        "id": "po1Sdd3K0Qa6",
        "colab_type": "text"
      },
      "source": [
        "###Lets see what happends with the oversampled data"
      ]
    },
    {
      "cell_type": "code",
      "metadata": {
        "id": "bZRymTMOkZtW",
        "colab_type": "code",
        "outputId": "4b5168ad-c9dd-4534-dd02-d173f45d9aa4",
        "colab": {
          "base_uri": "https://localhost:8080/",
          "height": 731
        }
      },
      "source": [
        "vectorizer = CountVectorizer(max_features=5000, max_df = 0.2, min_df = 10, stop_words=stopwords, tokenizer=word_tokenize) \n",
        "for i,model in enumerate(classifiers):\n",
        "    print(names[i])\n",
        "    eval_model(model,Xtrain=Xtrain_oversampled,ytrain=ytrain_oversampled, vectorizer=vectorizer)\n",
        "    print(\"\")"
      ],
      "execution_count": 0,
      "outputs": [
        {
          "output_type": "stream",
          "text": [
            "Dummy\n",
            "Acc  0.3695324283559578\n",
            "Prec  0.4635794643180548\n",
            "Recall  0.3695324283559578\n",
            "F1  0.40774814237075135\n",
            "\n",
            "Nearest Neighbors\n",
            "Acc  0.5806938159879337\n",
            "Prec  0.6257433220836022\n",
            "Recall  0.5806938159879337\n",
            "F1  0.5796451114331066\n",
            "\n",
            "Decision Tree\n",
            "Acc  0.6757164404223228\n",
            "Prec  0.6104024553138988\n",
            "Recall  0.6757164404223228\n",
            "F1  0.5720113908601316\n",
            "\n",
            "AdaBoost\n",
            "Acc  0.5987933634992458\n",
            "Prec  0.5225405983324535\n",
            "Recall  0.5987933634992458\n",
            "F1  0.5376745734110027\n",
            "\n",
            "LogisticRegression\n",
            "Acc  0.6395173453996983\n",
            "Prec  0.6074142717390297\n",
            "Recall  0.6395173453996983\n",
            "F1  0.6178568238229954\n",
            "\n",
            "Neural Net\n",
            "Acc  0.6274509803921569\n",
            "Prec  0.6023869715874909\n",
            "Recall  0.6274509803921569\n",
            "F1  0.6133662705022821\n",
            "\n",
            "Voting\n",
            "Acc  0.6681749622926093\n",
            "Prec  0.6156129817894523\n",
            "Recall  0.6681749622926093\n",
            "F1  0.5951856668995243\n",
            "\n"
          ],
          "name": "stdout"
        }
      ]
    },
    {
      "cell_type": "markdown",
      "metadata": {
        "id": "W6JqUx7W0Y9k",
        "colab_type": "text"
      },
      "source": [
        "Results got worst with the oversampled data, maybe this should take further studies to get a better inside of why the data oversampled did not improve the results."
      ]
    },
    {
      "cell_type": "markdown",
      "metadata": {
        "id": "JTsPNpSCz0A6",
        "colab_type": "text"
      },
      "source": [
        "### My main conclusion is to get more annotated data and use state of the are models for natural language processing, starting with pretained embedding models and powerful neural networks architectures like LSTM and Transformers. "
      ]
    }
  ]
}